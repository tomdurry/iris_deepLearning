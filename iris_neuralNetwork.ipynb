{
 "cells": [
  {
   "cell_type": "code",
   "execution_count": 1,
   "metadata": {},
   "outputs": [
    {
     "data": {
      "text/html": [
       "<style>.container { width:100% !important; }</style>"
      ],
      "text/plain": [
       "<IPython.core.display.HTML object>"
      ]
     },
     "metadata": {},
     "output_type": "display_data"
    }
   ],
   "source": [
    "from sklearn.datasets import load_iris\n",
    "from sklearn.model_selection import train_test_split\n",
    "import chainer\n",
    "import chainer.links as L\n",
    "import chainer.functions as F\n",
    "from chainer import Sequential\n",
    "import numpy as np\n",
    "import matplotlib.pyplot as plt\n",
    "from IPython.core.display import display, HTML \n",
    "display(HTML(\"<style>.container { width:100% !important; }</style>\"))\n",
    "\n",
    "%reload_ext autoreload\n",
    "%autoreload 2\n",
    "%matplotlib inline"
   ]
  },
  {
   "cell_type": "code",
   "execution_count": 2,
   "metadata": {},
   "outputs": [
    {
     "name": "stdout",
     "output_type": "stream",
     "text": [
      "x: (150, 4)\n",
      "t: (150,)\n"
     ]
    }
   ],
   "source": [
    "x, t = load_iris(return_X_y=True)\n",
    "print('x:', x.shape)\n",
    "print('t:', t.shape)"
   ]
  },
  {
   "cell_type": "code",
   "execution_count": 3,
   "metadata": {},
   "outputs": [],
   "source": [
    "x = x.astype('float32')\n",
    "t = t.astype('int32')"
   ]
  },
  {
   "cell_type": "code",
   "execution_count": 4,
   "metadata": {},
   "outputs": [],
   "source": [
    "x_train_val, x_test, t_train_val, t_test = train_test_split(x, t, test_size=0.3, random_state=0)\n",
    "x_train, x_val, t_train, t_val = train_test_split(x_train_val, t_train_val, test_size=0.3, random_state=0)"
   ]
  },
  {
   "cell_type": "code",
   "execution_count": 5,
   "metadata": {},
   "outputs": [],
   "source": [
    "l = L.Linear(4, 3)"
   ]
  },
  {
   "cell_type": "code",
   "execution_count": 6,
   "metadata": {},
   "outputs": [],
   "source": [
    "n_input = 4\n",
    "n_hidden = 10\n",
    "n_output = 3\n",
    "\n",
    "net = Sequential(\n",
    "L.Linear(n_input, n_hidden), F.relu,\n",
    "L.Linear(n_hidden, n_hidden), F.relu,    \n",
    "L.Linear(n_hidden, n_output)\n",
    ")"
   ]
  },
  {
   "cell_type": "code",
   "execution_count": 7,
   "metadata": {},
   "outputs": [],
   "source": [
    "optimizer = chainer.optimizers.SGD(lr=0.01)\n",
    "optimizer = optimizer.setup(net)"
   ]
  },
  {
   "cell_type": "code",
   "execution_count": 8,
   "metadata": {},
   "outputs": [],
   "source": [
    "n_epoch = 30\n",
    "n_batchsize = 16"
   ]
  },
  {
   "cell_type": "code",
   "execution_count": 9,
   "metadata": {},
   "outputs": [
    {
     "name": "stdout",
     "output_type": "stream",
     "text": [
      "epoch: 0, iteration: 5, loss (train): 1.0761, loss (valid): 1.1050\n",
      "epoch: 1, iteration: 10, loss (train): 1.0613, loss (valid): 1.0889\n",
      "epoch: 2, iteration: 15, loss (train): 1.0433, loss (valid): 1.0756\n",
      "epoch: 3, iteration: 20, loss (train): 1.0325, loss (valid): 1.0611\n",
      "epoch: 4, iteration: 25, loss (train): 1.0187, loss (valid): 1.0468\n",
      "epoch: 5, iteration: 30, loss (train): 1.0051, loss (valid): 1.0362\n",
      "epoch: 6, iteration: 35, loss (train): 0.9935, loss (valid): 1.0256\n",
      "epoch: 7, iteration: 40, loss (train): 0.9875, loss (valid): 1.0128\n",
      "epoch: 8, iteration: 45, loss (train): 0.9711, loss (valid): 0.9980\n",
      "epoch: 9, iteration: 50, loss (train): 0.9591, loss (valid): 0.9864\n",
      "epoch: 10, iteration: 55, loss (train): 0.9594, loss (valid): 0.9686\n",
      "epoch: 11, iteration: 60, loss (train): 0.9358, loss (valid): 0.9521\n",
      "epoch: 12, iteration: 65, loss (train): 0.9245, loss (valid): 0.9368\n",
      "epoch: 13, iteration: 70, loss (train): 0.9083, loss (valid): 0.9197\n",
      "epoch: 14, iteration: 75, loss (train): 0.8881, loss (valid): 0.9092\n",
      "epoch: 15, iteration: 80, loss (train): 0.8836, loss (valid): 0.8835\n",
      "epoch: 16, iteration: 85, loss (train): 0.8646, loss (valid): 0.8694\n",
      "epoch: 17, iteration: 90, loss (train): 0.8567, loss (valid): 0.8466\n",
      "epoch: 18, iteration: 95, loss (train): 0.8453, loss (valid): 0.8297\n",
      "epoch: 19, iteration: 100, loss (train): 0.8184, loss (valid): 0.8102\n",
      "epoch: 20, iteration: 105, loss (train): 0.8069, loss (valid): 0.7940\n",
      "epoch: 21, iteration: 110, loss (train): 0.7858, loss (valid): 0.7743\n",
      "epoch: 22, iteration: 115, loss (train): 0.7793, loss (valid): 0.7510\n",
      "epoch: 23, iteration: 120, loss (train): 0.7669, loss (valid): 0.7333\n",
      "epoch: 24, iteration: 125, loss (train): 0.7422, loss (valid): 0.7219\n",
      "epoch: 25, iteration: 130, loss (train): 0.7337, loss (valid): 0.6992\n",
      "epoch: 26, iteration: 135, loss (train): 0.7268, loss (valid): 0.6751\n",
      "epoch: 27, iteration: 140, loss (train): 0.7064, loss (valid): 0.6574\n",
      "epoch: 28, iteration: 145, loss (train): 0.6921, loss (valid): 0.6371\n",
      "epoch: 29, iteration: 150, loss (train): 0.6840, loss (valid): 0.6221\n"
     ]
    }
   ],
   "source": [
    "iteration = 0\n",
    "\n",
    "results_train = {\n",
    "    'loss':[],\n",
    "    'accuracy':[]\n",
    "}\n",
    "\n",
    "results_valid = {\n",
    "    'loss':[],\n",
    "    'accuracy':[]\n",
    "}\n",
    "\n",
    "for epoch in range(n_epoch):\n",
    "    order = np.random.permutation(range(len(x_train)))\n",
    "    \n",
    "    loss_list = []\n",
    "    accuracy_list = []\n",
    "    \n",
    "    for i in range(0, len(order), n_batchsize):\n",
    "        index = order[i:i+n_batchsize]\n",
    "        x_train_batch = x_train[index,:]\n",
    "        t_train_batch = t_train[index]\n",
    "        \n",
    "        y_train_batch = net(x_train_batch)\n",
    "        \n",
    "        loss_train_batch = F.softmax_cross_entropy(y_train_batch, t_train_batch)\n",
    "        accuracy_train_batch = F.accuracy(y_train_batch, t_train_batch)\n",
    "        \n",
    "        loss_list.append(loss_train_batch.array)\n",
    "        accuracy_list.append(accuracy_train_batch.array)\n",
    "        \n",
    "        net.cleargrads()\n",
    "        loss_train_batch.backward()\n",
    "        \n",
    "        optimizer.update()\n",
    "        \n",
    "        iteration += 1\n",
    "        \n",
    "    loss_train = np.mean(loss_list)\n",
    "    accuracy_train = np.mean(accuracy_list)\n",
    "\n",
    "    with chainer.using_config('train', False), chainer.using_config('enable_backprop', False):\n",
    "        y_val = net(x_val)\n",
    "\n",
    "    loss_val = F.softmax_cross_entropy(y_val, t_val)\n",
    "    accuracy_val = F.accuracy(y_val, t_val)\n",
    "\n",
    "    print('epoch: {}, iteration: {}, loss (train): {:.4f}, loss (valid): {:.4f}'.format(epoch, iteration, loss_train, loss_val.array))\n",
    "\n",
    "    results_train['loss'].append(loss_train)\n",
    "    results_train['accuracy'].append(accuracy_train)\n",
    "    results_valid['loss'].append(loss_val.array)\n",
    "    results_valid['accuracy'].append(accuracy_val.array)"
   ]
  },
  {
   "cell_type": "code",
   "execution_count": 10,
   "metadata": {},
   "outputs": [
    {
     "data": {
      "text/plain": [
       "<matplotlib.legend.Legend at 0xbcd2d68>"
      ]
     },
     "execution_count": 10,
     "metadata": {},
     "output_type": "execute_result"
    },
    {
     "data": {
      "image/png": "[encoded data removed]",
      "text/plain": [
       "<Figure size 432x288 with 1 Axes>"
      ]
     },
     "metadata": {
      "needs_background": "light"
     },
     "output_type": "display_data"
    }
   ],
   "source": [
    "plt.plot(results_train['loss'], label='train')\n",
    "plt.plot(results_valid['loss'], label='valid')\n",
    "plt.legend()"
   ]
  },
  {
   "cell_type": "code",
   "execution_count": 11,
   "metadata": {},
   "outputs": [
    {
     "data": {
      "text/plain": [
       "<matplotlib.legend.Legend at 0xbd817f0>"
      ]
     },
     "execution_count": 11,
     "metadata": {},
     "output_type": "execute_result"
    },
    {
     "data": {
      "image/png": "[encoded data removed]",
      "text/plain": [
       "<Figure size 432x288 with 1 Axes>"
      ]
     },
     "metadata": {
      "needs_background": "light"
     },
     "output_type": "display_data"
    }
   ],
   "source": [
    "plt.plot(results_train['accuracy'], label='train')  # label で凡例の設定\n",
    "plt.plot(results_valid['accuracy'], label='valid')  # label で凡例の設定\n",
    "plt.legend()  "
   ]
  },
  {
   "cell_type": "code",
   "execution_count": 12,
   "metadata": {},
   "outputs": [],
   "source": [
    "with chainer.using_config('train', False), chainer.using_config('enable_backprop', False):\n",
    "    y_test = net(x_test)"
   ]
  },
  {
   "cell_type": "code",
   "execution_count": 13,
   "metadata": {},
   "outputs": [
    {
     "data": {
      "text/plain": [
       "array(0.6, dtype=float32)"
      ]
     },
     "execution_count": 13,
     "metadata": {},
     "output_type": "execute_result"
    }
   ],
   "source": [
    "accuracy_test = F.accuracy(y_test, t_test)\n",
    "accuracy_test.array"
   ]
  },
  {
   "cell_type": "code",
   "execution_count": 14,
   "metadata": {},
   "outputs": [],
   "source": [
    "loaded_net = Sequential(\n",
    "    L.Linear(n_input, n_hidden), F.relu,\n",
    "    L.Linear(n_hidden, n_hidden), F.relu,\n",
    "    L.Linear(n_hidden, n_output)\n",
    ")"
   ]
  },
  {
   "cell_type": "code",
   "execution_count": 15,
   "metadata": {},
   "outputs": [],
   "source": [
    "chainer.serializers.load_npz('my_iris.net', loaded_net)"
   ]
  },
  {
   "cell_type": "code",
   "execution_count": 16,
   "metadata": {},
   "outputs": [],
   "source": [
    "with chainer.using_config('train', False), chainer.using_config('enable_backprop', False):\n",
    "    y_test = loaded_net(x_test)"
   ]
  },
  {
   "cell_type": "code",
   "execution_count": 17,
   "metadata": {},
   "outputs": [
    {
     "data": {
      "text/plain": [
       "2"
      ]
     },
     "execution_count": 17,
     "metadata": {},
     "output_type": "execute_result"
    }
   ],
   "source": [
    "np.argmax(y_test[0,:].array)"
   ]
  }
 ],
 "metadata": {
  "kernelspec": {
   "display_name": "Python 3",
   "language": "python",
   "name": "python3"
  },
  "language_info": {
   "codemirror_mode": {
    "name": "ipython",
    "version": 3
   },
   "file_extension": ".py",
   "mimetype": "text/x-python",
   "name": "python",
   "nbconvert_exporter": "python",
   "pygments_lexer": "ipython3",
   "version": "3.7.3"
  },
  "widgets": {
   "application/vnd.jupyter.widget-state+json": {
    "state": {},
    "version_major": 2,
    "version_minor": 0
   }
  }
 },
 "nbformat": 4,
 "nbformat_minor": 2
}
